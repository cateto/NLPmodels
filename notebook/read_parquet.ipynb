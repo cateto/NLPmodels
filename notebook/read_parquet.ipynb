{
 "cells": [
  {
   "cell_type": "code",
   "execution_count": 1,
   "metadata": {},
   "outputs": [],
   "source": [
    "import fastparquet"
   ]
  },
  {
   "cell_type": "code",
   "execution_count": 2,
   "metadata": {},
   "outputs": [],
   "source": [
    "data_dir = '/home/woohyun/NER/data/k_corpus/featured_data/monologg__koelectra-base-v3-discriminator/'\n",
    "\n",
    "train_data = fastparquet.ParquetFile(data_dir).to_pandas()"
   ]
  },
  {
   "cell_type": "code",
   "execution_count": 3,
   "metadata": {},
   "outputs": [
    {
     "data": {
      "text/plain": [
       "2109682"
      ]
     },
     "execution_count": 3,
     "metadata": {},
     "output_type": "execute_result"
    }
   ],
   "source": [
    "len(train_data)"
   ]
  },
  {
   "cell_type": "code",
   "execution_count": 14,
   "metadata": {},
   "outputs": [
    {
     "data": {
      "text/html": [
       "<div>\n",
       "<style scoped>\n",
       "    .dataframe tbody tr th:only-of-type {\n",
       "        vertical-align: middle;\n",
       "    }\n",
       "\n",
       "    .dataframe tbody tr th {\n",
       "        vertical-align: top;\n",
       "    }\n",
       "\n",
       "    .dataframe thead th {\n",
       "        text-align: right;\n",
       "    }\n",
       "</style>\n",
       "<table border=\"1\" class=\"dataframe\">\n",
       "  <thead>\n",
       "    <tr style=\"text-align: right;\">\n",
       "      <th></th>\n",
       "      <th>sentence_id</th>\n",
       "      <th>tokens</th>\n",
       "      <th>token_labels</th>\n",
       "      <th>input_ids</th>\n",
       "      <th>attention_mask</th>\n",
       "      <th>token_type_ids</th>\n",
       "      <th>output_ids</th>\n",
       "      <th>dir0</th>\n",
       "    </tr>\n",
       "    <tr>\n",
       "      <th>index</th>\n",
       "      <th></th>\n",
       "      <th></th>\n",
       "      <th></th>\n",
       "      <th></th>\n",
       "      <th></th>\n",
       "      <th></th>\n",
       "      <th></th>\n",
       "      <th></th>\n",
       "    </tr>\n",
       "  </thead>\n",
       "  <tbody>\n",
       "    <tr>\n",
       "      <th>96275</th>\n",
       "      <td>EBRW1908000252.78.10.1</td>\n",
       "      <td>[이거, 새로, 나온, 젤리, ##인, ##데]</td>\n",
       "      <td>[-, -, -, B_CV, -, -]</td>\n",
       "      <td>[2, 7808, 6362, 6623, 18078, 4139, 4244, 3, 0,...</td>\n",
       "      <td>[1, 1, 1, 1, 1, 1, 1, 1, 0, 0, 0, 0, 0, 0, 0, ...</td>\n",
       "      <td>[0, 0, 0, 0, 0, 0, 0, 0, 0, 0, 0, 0, 0, 0, 0, ...</td>\n",
       "      <td>[1, 1, 1, 1, 2, 1, 1, 1, 0, 0, 0, 0, 0, 0, 0, ...</td>\n",
       "      <td>test_data</td>\n",
       "    </tr>\n",
       "    <tr>\n",
       "      <th>22712</th>\n",
       "      <td>EBRW1908000046.46.8.1</td>\n",
       "      <td>[구경, ##하, ##다가, 충격, ##적, ##인, 마네, ##킹, 발견, !, ...</td>\n",
       "      <td>[-, -, -, -, -, -, -, -, -, -, -, -]</td>\n",
       "      <td>[2, 9882, 4279, 7483, 7709, 4199, 4139, 28717,...</td>\n",
       "      <td>[1, 1, 1, 1, 1, 1, 1, 1, 1, 1, 1, 1, 1, 1, 0, ...</td>\n",
       "      <td>[0, 0, 0, 0, 0, 0, 0, 0, 0, 0, 0, 0, 0, 0, 0, ...</td>\n",
       "      <td>[1, 1, 1, 1, 1, 1, 1, 1, 1, 1, 1, 1, 1, 1, 0, ...</td>\n",
       "      <td>test_data</td>\n",
       "    </tr>\n",
       "    <tr>\n",
       "      <th>31942</th>\n",
       "      <td>EBRW1908000164.98.21.1</td>\n",
       "      <td>[손목, ##을, 안쓰, ##도록, 해야, ##하, ##는데]</td>\n",
       "      <td>[B_AM, -, -, -, -, -, -]</td>\n",
       "      <td>[2, 13638, 4292, 25738, 26147, 6256, 4279, 187...</td>\n",
       "      <td>[1, 1, 1, 1, 1, 1, 1, 1, 1, 0, 0, 0, 0, 0, 0, ...</td>\n",
       "      <td>[0, 0, 0, 0, 0, 0, 0, 0, 0, 0, 0, 0, 0, 0, 0, ...</td>\n",
       "      <td>[1, 18, 1, 1, 1, 1, 1, 1, 1, 0, 0, 0, 0, 0, 0,...</td>\n",
       "      <td>test_data</td>\n",
       "    </tr>\n",
       "    <tr>\n",
       "      <th>87283</th>\n",
       "      <td>EBRW1908000090.5.41.1</td>\n",
       "      <td>[발달, ##하, ##게, ##되, ##는]</td>\n",
       "      <td>[-, -, -, -, -]</td>\n",
       "      <td>[2, 8824, 4279, 4325, 4479, 4034, 3, 0, 0, 0, ...</td>\n",
       "      <td>[1, 1, 1, 1, 1, 1, 1, 0, 0, 0, 0, 0, 0, 0, 0, ...</td>\n",
       "      <td>[0, 0, 0, 0, 0, 0, 0, 0, 0, 0, 0, 0, 0, 0, 0, ...</td>\n",
       "      <td>[1, 1, 1, 1, 1, 1, 1, 0, 0, 0, 0, 0, 0, 0, 0, ...</td>\n",
       "      <td>test_data</td>\n",
       "    </tr>\n",
       "    <tr>\n",
       "      <th>13342</th>\n",
       "      <td>EBRW1908000229.96.7.1</td>\n",
       "      <td>[그리구, 평일, ##이, ##라, 매우, ##한, ##산, ##한, 느낌, ~, ...</td>\n",
       "      <td>[-, B_DT, -, -, -, -, -, -, -, -, -, -, -, -, ...</td>\n",
       "      <td>[2, 32119, 13376, 4007, 4118, 6669, 4283, 4122...</td>\n",
       "      <td>[1, 1, 1, 1, 1, 1, 1, 1, 1, 1, 1, 1, 1, 1, 1, ...</td>\n",
       "      <td>[0, 0, 0, 0, 0, 0, 0, 0, 0, 0, 0, 0, 0, 0, 0, ...</td>\n",
       "      <td>[1, 1, 13, 1, 1, 1, 1, 1, 1, 1, 1, 1, 1, 1, 1,...</td>\n",
       "      <td>test_data</td>\n",
       "    </tr>\n",
       "  </tbody>\n",
       "</table>\n",
       "</div>"
      ],
      "text/plain": [
       "                  sentence_id  \\\n",
       "index                           \n",
       "96275  EBRW1908000252.78.10.1   \n",
       "22712   EBRW1908000046.46.8.1   \n",
       "31942  EBRW1908000164.98.21.1   \n",
       "87283   EBRW1908000090.5.41.1   \n",
       "13342   EBRW1908000229.96.7.1   \n",
       "\n",
       "                                                  tokens  \\\n",
       "index                                                      \n",
       "96275                         [이거, 새로, 나온, 젤리, ##인, ##데]   \n",
       "22712  [구경, ##하, ##다가, 충격, ##적, ##인, 마네, ##킹, 발견, !, ...   \n",
       "31942                 [손목, ##을, 안쓰, ##도록, 해야, ##하, ##는데]   \n",
       "87283                           [발달, ##하, ##게, ##되, ##는]   \n",
       "13342  [그리구, 평일, ##이, ##라, 매우, ##한, ##산, ##한, 느낌, ~, ...   \n",
       "\n",
       "                                            token_labels  \\\n",
       "index                                                      \n",
       "96275                              [-, -, -, B_CV, -, -]   \n",
       "22712               [-, -, -, -, -, -, -, -, -, -, -, -]   \n",
       "31942                           [B_AM, -, -, -, -, -, -]   \n",
       "87283                                    [-, -, -, -, -]   \n",
       "13342  [-, B_DT, -, -, -, -, -, -, -, -, -, -, -, -, ...   \n",
       "\n",
       "                                               input_ids  \\\n",
       "index                                                      \n",
       "96275  [2, 7808, 6362, 6623, 18078, 4139, 4244, 3, 0,...   \n",
       "22712  [2, 9882, 4279, 7483, 7709, 4199, 4139, 28717,...   \n",
       "31942  [2, 13638, 4292, 25738, 26147, 6256, 4279, 187...   \n",
       "87283  [2, 8824, 4279, 4325, 4479, 4034, 3, 0, 0, 0, ...   \n",
       "13342  [2, 32119, 13376, 4007, 4118, 6669, 4283, 4122...   \n",
       "\n",
       "                                          attention_mask  \\\n",
       "index                                                      \n",
       "96275  [1, 1, 1, 1, 1, 1, 1, 1, 0, 0, 0, 0, 0, 0, 0, ...   \n",
       "22712  [1, 1, 1, 1, 1, 1, 1, 1, 1, 1, 1, 1, 1, 1, 0, ...   \n",
       "31942  [1, 1, 1, 1, 1, 1, 1, 1, 1, 0, 0, 0, 0, 0, 0, ...   \n",
       "87283  [1, 1, 1, 1, 1, 1, 1, 0, 0, 0, 0, 0, 0, 0, 0, ...   \n",
       "13342  [1, 1, 1, 1, 1, 1, 1, 1, 1, 1, 1, 1, 1, 1, 1, ...   \n",
       "\n",
       "                                          token_type_ids  \\\n",
       "index                                                      \n",
       "96275  [0, 0, 0, 0, 0, 0, 0, 0, 0, 0, 0, 0, 0, 0, 0, ...   \n",
       "22712  [0, 0, 0, 0, 0, 0, 0, 0, 0, 0, 0, 0, 0, 0, 0, ...   \n",
       "31942  [0, 0, 0, 0, 0, 0, 0, 0, 0, 0, 0, 0, 0, 0, 0, ...   \n",
       "87283  [0, 0, 0, 0, 0, 0, 0, 0, 0, 0, 0, 0, 0, 0, 0, ...   \n",
       "13342  [0, 0, 0, 0, 0, 0, 0, 0, 0, 0, 0, 0, 0, 0, 0, ...   \n",
       "\n",
       "                                              output_ids       dir0  \n",
       "index                                                                \n",
       "96275  [1, 1, 1, 1, 2, 1, 1, 1, 0, 0, 0, 0, 0, 0, 0, ...  test_data  \n",
       "22712  [1, 1, 1, 1, 1, 1, 1, 1, 1, 1, 1, 1, 1, 1, 0, ...  test_data  \n",
       "31942  [1, 18, 1, 1, 1, 1, 1, 1, 1, 0, 0, 0, 0, 0, 0,...  test_data  \n",
       "87283  [1, 1, 1, 1, 1, 1, 1, 0, 0, 0, 0, 0, 0, 0, 0, ...  test_data  \n",
       "13342  [1, 1, 13, 1, 1, 1, 1, 1, 1, 1, 1, 1, 1, 1, 1,...  test_data  "
      ]
     },
     "execution_count": 14,
     "metadata": {},
     "output_type": "execute_result"
    }
   ],
   "source": [
    "train_data.head()"
   ]
  },
  {
   "cell_type": "code",
   "execution_count": 15,
   "metadata": {},
   "outputs": [
    {
     "data": {
      "text/html": [
       "<div>\n",
       "<style scoped>\n",
       "    .dataframe tbody tr th:only-of-type {\n",
       "        vertical-align: middle;\n",
       "    }\n",
       "\n",
       "    .dataframe tbody tr th {\n",
       "        vertical-align: top;\n",
       "    }\n",
       "\n",
       "    .dataframe thead th {\n",
       "        text-align: right;\n",
       "    }\n",
       "</style>\n",
       "<table border=\"1\" class=\"dataframe\">\n",
       "  <thead>\n",
       "    <tr style=\"text-align: right;\">\n",
       "      <th></th>\n",
       "      <th>sentence_id</th>\n",
       "      <th>tokens</th>\n",
       "      <th>token_labels</th>\n",
       "      <th>input_ids</th>\n",
       "      <th>attention_mask</th>\n",
       "      <th>token_type_ids</th>\n",
       "      <th>output_ids</th>\n",
       "      <th>dir0</th>\n",
       "    </tr>\n",
       "    <tr>\n",
       "      <th>index</th>\n",
       "      <th></th>\n",
       "      <th></th>\n",
       "      <th></th>\n",
       "      <th></th>\n",
       "      <th></th>\n",
       "      <th></th>\n",
       "      <th></th>\n",
       "      <th></th>\n",
       "    </tr>\n",
       "  </thead>\n",
       "  <tbody>\n",
       "    <tr>\n",
       "      <th>13342</th>\n",
       "      <td>EBRW1908000229.96.7.1</td>\n",
       "      <td>[그리구, 평일, ##이, ##라, 매우, ##한, ##산, ##한, 느낌, ~, ...</td>\n",
       "      <td>[-, B_DT, -, -, -, -, -, -, -, -, -, -, -, -, ...</td>\n",
       "      <td>[2, 32119, 13376, 4007, 4118, 6669, 4283, 4122...</td>\n",
       "      <td>[1, 1, 1, 1, 1, 1, 1, 1, 1, 1, 1, 1, 1, 1, 1, ...</td>\n",
       "      <td>[0, 0, 0, 0, 0, 0, 0, 0, 0, 0, 0, 0, 0, 0, 0, ...</td>\n",
       "      <td>[1, 1, 13, 1, 1, 1, 1, 1, 1, 1, 1, 1, 1, 1, 1,...</td>\n",
       "      <td>test_data</td>\n",
       "    </tr>\n",
       "  </tbody>\n",
       "</table>\n",
       "</div>"
      ],
      "text/plain": [
       "                 sentence_id  \\\n",
       "index                          \n",
       "13342  EBRW1908000229.96.7.1   \n",
       "\n",
       "                                                  tokens  \\\n",
       "index                                                      \n",
       "13342  [그리구, 평일, ##이, ##라, 매우, ##한, ##산, ##한, 느낌, ~, ...   \n",
       "\n",
       "                                            token_labels  \\\n",
       "index                                                      \n",
       "13342  [-, B_DT, -, -, -, -, -, -, -, -, -, -, -, -, ...   \n",
       "\n",
       "                                               input_ids  \\\n",
       "index                                                      \n",
       "13342  [2, 32119, 13376, 4007, 4118, 6669, 4283, 4122...   \n",
       "\n",
       "                                          attention_mask  \\\n",
       "index                                                      \n",
       "13342  [1, 1, 1, 1, 1, 1, 1, 1, 1, 1, 1, 1, 1, 1, 1, ...   \n",
       "\n",
       "                                          token_type_ids  \\\n",
       "index                                                      \n",
       "13342  [0, 0, 0, 0, 0, 0, 0, 0, 0, 0, 0, 0, 0, 0, 0, ...   \n",
       "\n",
       "                                              output_ids       dir0  \n",
       "index                                                                \n",
       "13342  [1, 1, 13, 1, 1, 1, 1, 1, 1, 1, 1, 1, 1, 1, 1,...  test_data  "
      ]
     },
     "execution_count": 15,
     "metadata": {},
     "output_type": "execute_result"
    }
   ],
   "source": [
    "train_data.query('sentence_id == \"EBRW1908000229.96.7.1\"')"
   ]
  },
  {
   "cell_type": "code",
   "execution_count": 5,
   "metadata": {},
   "outputs": [],
   "source": [
    "import numpy as np\n",
    "token_labels = np.concatenate(train_data['token_labels'].values)"
   ]
  },
  {
   "cell_type": "code",
   "execution_count": 6,
   "metadata": {},
   "outputs": [
    {
     "data": {
      "text/plain": [
       "27306792"
      ]
     },
     "execution_count": 6,
     "metadata": {},
     "output_type": "execute_result"
    }
   ],
   "source": [
    "len(token_labels)"
   ]
  },
  {
   "cell_type": "code",
   "execution_count": 7,
   "metadata": {},
   "outputs": [
    {
     "data": {
      "text/plain": [
       "array(['-', '-', '-', ..., '-', '-', '-'], dtype='<U32')"
      ]
     },
     "execution_count": 7,
     "metadata": {},
     "output_type": "execute_result"
    }
   ],
   "source": [
    "token_labels"
   ]
  },
  {
   "cell_type": "code",
   "execution_count": 8,
   "metadata": {},
   "outputs": [
    {
     "name": "stdout",
     "output_type": "stream",
     "text": [
      "Counter({'-': 22701431, 'B_CV': 467614, 'I_QT': 369221, 'I_OG': 365541, 'I_CV': 349394, 'I_PS': 316264, 'B_PS': 268633, 'B_QT': 244196, 'I_AF': 243323, 'B_LC': 239939, 'I_DT': 239366, 'B_OG': 226731, 'B_DT': 214816, 'I_TM': 200444, 'B_TM': 138200, 'I_LC': 135234, 'B_AF': 125888, 'B_AM': 90586, 'I_EV': 80549, 'I_TI': 58797, 'B_TI': 41562, 'B_EV': 31390, 'I_AM': 29029, 'B_PT': 24405, 'I_TR': 22382, 'B_MT': 16708, 'B_TR': 16244, 'I_PT': 15149, 'I_MT': 13263, 'B_FD': 12952, 'I_FD': 7541})\n"
     ]
    }
   ],
   "source": [
    "from collections import Counter\n",
    "import pandas as pd\n",
    "\n",
    "result = Counter(token_labels)\n",
    "print(result)\n",
    "\n",
    "pd.DataFrame(result.most_common(), columns=[\"item\", \"count\"]).to_csv(\"/home/woohyun/NER/data/k_corpus/featured_data/monologg__koelectra-base-v3-discriminator_통계.csv\")\n",
    "\n",
    "# for key in result:\n",
    "#     print(key, result[key])\n",
    "\n",
    "# # 값만 출력도 가능\n",
    "# result = Counter(token_labels).values()\n",
    "# print(result)"
   ]
  },
  {
   "cell_type": "code",
   "execution_count": null,
   "metadata": {},
   "outputs": [],
   "source": []
  }
 ],
 "metadata": {
  "kernelspec": {
   "display_name": "Python 3",
   "language": "python",
   "name": "python3"
  },
  "language_info": {
   "codemirror_mode": {
    "name": "ipython",
    "version": 3
   },
   "file_extension": ".py",
   "mimetype": "text/x-python",
   "name": "python",
   "nbconvert_exporter": "python",
   "pygments_lexer": "ipython3",
   "version": "3.8.10"
  },
  "orig_nbformat": 4
 },
 "nbformat": 4,
 "nbformat_minor": 2
}
