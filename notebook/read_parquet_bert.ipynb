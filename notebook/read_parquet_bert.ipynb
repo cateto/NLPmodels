{
 "cells": [
  {
   "cell_type": "code",
   "execution_count": 1,
   "metadata": {},
   "outputs": [],
   "source": [
    "import fastparquet"
   ]
  },
  {
   "cell_type": "code",
   "execution_count": 2,
   "metadata": {},
   "outputs": [],
   "source": [
    "data_dir = '/home/woohyun/NER/data/k_corpus/featured_data/bert-base-multilingual-cased/'\n",
    "\n",
    "train_data = fastparquet.ParquetFile(data_dir).to_pandas()"
   ]
  },
  {
   "cell_type": "code",
   "execution_count": 3,
   "metadata": {},
   "outputs": [
    {
     "data": {
      "text/plain": [
       "2107157"
      ]
     },
     "execution_count": 3,
     "metadata": {},
     "output_type": "execute_result"
    }
   ],
   "source": [
    "len(train_data)"
   ]
  },
  {
   "cell_type": "code",
   "execution_count": 4,
   "metadata": {},
   "outputs": [
    {
     "data": {
      "text/html": [
       "<div>\n",
       "<style scoped>\n",
       "    .dataframe tbody tr th:only-of-type {\n",
       "        vertical-align: middle;\n",
       "    }\n",
       "\n",
       "    .dataframe tbody tr th {\n",
       "        vertical-align: top;\n",
       "    }\n",
       "\n",
       "    .dataframe thead th {\n",
       "        text-align: right;\n",
       "    }\n",
       "</style>\n",
       "<table border=\"1\" class=\"dataframe\">\n",
       "  <thead>\n",
       "    <tr style=\"text-align: right;\">\n",
       "      <th></th>\n",
       "      <th>sentence_id</th>\n",
       "      <th>tokens</th>\n",
       "      <th>token_labels</th>\n",
       "      <th>input_ids</th>\n",
       "      <th>attention_mask</th>\n",
       "      <th>token_type_ids</th>\n",
       "      <th>output_ids</th>\n",
       "      <th>dir0</th>\n",
       "    </tr>\n",
       "    <tr>\n",
       "      <th>index</th>\n",
       "      <th></th>\n",
       "      <th></th>\n",
       "      <th></th>\n",
       "      <th></th>\n",
       "      <th></th>\n",
       "      <th></th>\n",
       "      <th></th>\n",
       "      <th></th>\n",
       "    </tr>\n",
       "  </thead>\n",
       "  <tbody>\n",
       "    <tr>\n",
       "      <th>18768</th>\n",
       "      <td>SBRW1800000293.794</td>\n",
       "      <td>[너, ##무, 단, ##맛, ##이, 강, ##해, ##질, 수, 있, ##으, ...</td>\n",
       "      <td>[-, -, -, -, -, -, -, -, -, -, -, -, -]</td>\n",
       "      <td>[101, 9004, 32537, 9059, 118912, 10739, 8853, ...</td>\n",
       "      <td>[1, 1, 1, 1, 1, 1, 1, 1, 1, 1, 1, 1, 1, 1, 1, ...</td>\n",
       "      <td>[0, 0, 0, 0, 0, 0, 0, 0, 0, 0, 0, 0, 0, 0, 0, ...</td>\n",
       "      <td>[1, 1, 1, 1, 1, 1, 1, 1, 1, 1, 1, 1, 1, 1, 1, ...</td>\n",
       "      <td>valid_data</td>\n",
       "    </tr>\n",
       "    <tr>\n",
       "      <th>38805</th>\n",
       "      <td>SBRW1800000275.124</td>\n",
       "      <td>[그, ##래, ##서, 이, ##렇게, 꼭, ##지, 따, ##서, 준, ##비,...</td>\n",
       "      <td>[-, -, -, -, -, -, -, -, -, -, -, -, -, -, -, -]</td>\n",
       "      <td>[101, 8924, 37388, 12424, 9638, 82838, 8955, 1...</td>\n",
       "      <td>[1, 1, 1, 1, 1, 1, 1, 1, 1, 1, 1, 1, 1, 1, 1, ...</td>\n",
       "      <td>[0, 0, 0, 0, 0, 0, 0, 0, 0, 0, 0, 0, 0, 0, 0, ...</td>\n",
       "      <td>[1, 1, 1, 1, 1, 1, 1, 1, 1, 1, 1, 1, 1, 1, 1, ...</td>\n",
       "      <td>valid_data</td>\n",
       "    </tr>\n",
       "    <tr>\n",
       "      <th>22955</th>\n",
       "      <td>SBRW1800000131.117</td>\n",
       "      <td>[미, ##학적, ##으로, 너, ##무, ##나, 뛰, ##어, ##납, ##니다...</td>\n",
       "      <td>[-, -, -, -, -, -, -, -, -, -, -]</td>\n",
       "      <td>[101, 9309, 87503, 11467, 9004, 32537, 16439, ...</td>\n",
       "      <td>[1, 1, 1, 1, 1, 1, 1, 1, 1, 1, 1, 1, 1, 0, 0, ...</td>\n",
       "      <td>[0, 0, 0, 0, 0, 0, 0, 0, 0, 0, 0, 0, 0, 0, 0, ...</td>\n",
       "      <td>[1, 1, 1, 1, 1, 1, 1, 1, 1, 1, 1, 1, 1, 0, 0, ...</td>\n",
       "      <td>valid_data</td>\n",
       "    </tr>\n",
       "    <tr>\n",
       "      <th>53363</th>\n",
       "      <td>SARW1800001309.283</td>\n",
       "      <td>[한, 동안, xx, ##있, ##지, ##마, ##는, 최, ##근, ##의, 연...</td>\n",
       "      <td>[-, -, -, -, -, -, -, -, -, -, -, -, -, -, -, ...</td>\n",
       "      <td>[101, 9954, 41886, 76294, 119192, 12508, 23811...</td>\n",
       "      <td>[1, 1, 1, 1, 1, 1, 1, 1, 1, 1, 1, 1, 1, 1, 1, ...</td>\n",
       "      <td>[0, 0, 0, 0, 0, 0, 0, 0, 0, 0, 0, 0, 0, 0, 0, ...</td>\n",
       "      <td>[1, 1, 1, 1, 1, 1, 1, 1, 1, 1, 1, 1, 1, 1, 1, ...</td>\n",
       "      <td>valid_data</td>\n",
       "    </tr>\n",
       "    <tr>\n",
       "      <th>42961</th>\n",
       "      <td>SBRW1800000326.37</td>\n",
       "      <td>[맞, ##습, ##니다, .]</td>\n",
       "      <td>[-, -, -, -]</td>\n",
       "      <td>[101, 9256, 119081, 48345, 119, 102, 0, 0, 0, ...</td>\n",
       "      <td>[1, 1, 1, 1, 1, 1, 0, 0, 0, 0, 0, 0, 0, 0, 0, ...</td>\n",
       "      <td>[0, 0, 0, 0, 0, 0, 0, 0, 0, 0, 0, 0, 0, 0, 0, ...</td>\n",
       "      <td>[1, 1, 1, 1, 1, 1, 0, 0, 0, 0, 0, 0, 0, 0, 0, ...</td>\n",
       "      <td>valid_data</td>\n",
       "    </tr>\n",
       "  </tbody>\n",
       "</table>\n",
       "</div>"
      ],
      "text/plain": [
       "              sentence_id                                             tokens  \\\n",
       "index                                                                          \n",
       "18768  SBRW1800000293.794  [너, ##무, 단, ##맛, ##이, 강, ##해, ##질, 수, 있, ##으, ...   \n",
       "38805  SBRW1800000275.124  [그, ##래, ##서, 이, ##렇게, 꼭, ##지, 따, ##서, 준, ##비,...   \n",
       "22955  SBRW1800000131.117  [미, ##학적, ##으로, 너, ##무, ##나, 뛰, ##어, ##납, ##니다...   \n",
       "53363  SARW1800001309.283  [한, 동안, xx, ##있, ##지, ##마, ##는, 최, ##근, ##의, 연...   \n",
       "42961   SBRW1800000326.37                                  [맞, ##습, ##니다, .]   \n",
       "\n",
       "                                            token_labels  \\\n",
       "index                                                      \n",
       "18768            [-, -, -, -, -, -, -, -, -, -, -, -, -]   \n",
       "38805   [-, -, -, -, -, -, -, -, -, -, -, -, -, -, -, -]   \n",
       "22955                  [-, -, -, -, -, -, -, -, -, -, -]   \n",
       "53363  [-, -, -, -, -, -, -, -, -, -, -, -, -, -, -, ...   \n",
       "42961                                       [-, -, -, -]   \n",
       "\n",
       "                                               input_ids  \\\n",
       "index                                                      \n",
       "18768  [101, 9004, 32537, 9059, 118912, 10739, 8853, ...   \n",
       "38805  [101, 8924, 37388, 12424, 9638, 82838, 8955, 1...   \n",
       "22955  [101, 9309, 87503, 11467, 9004, 32537, 16439, ...   \n",
       "53363  [101, 9954, 41886, 76294, 119192, 12508, 23811...   \n",
       "42961  [101, 9256, 119081, 48345, 119, 102, 0, 0, 0, ...   \n",
       "\n",
       "                                          attention_mask  \\\n",
       "index                                                      \n",
       "18768  [1, 1, 1, 1, 1, 1, 1, 1, 1, 1, 1, 1, 1, 1, 1, ...   \n",
       "38805  [1, 1, 1, 1, 1, 1, 1, 1, 1, 1, 1, 1, 1, 1, 1, ...   \n",
       "22955  [1, 1, 1, 1, 1, 1, 1, 1, 1, 1, 1, 1, 1, 0, 0, ...   \n",
       "53363  [1, 1, 1, 1, 1, 1, 1, 1, 1, 1, 1, 1, 1, 1, 1, ...   \n",
       "42961  [1, 1, 1, 1, 1, 1, 0, 0, 0, 0, 0, 0, 0, 0, 0, ...   \n",
       "\n",
       "                                          token_type_ids  \\\n",
       "index                                                      \n",
       "18768  [0, 0, 0, 0, 0, 0, 0, 0, 0, 0, 0, 0, 0, 0, 0, ...   \n",
       "38805  [0, 0, 0, 0, 0, 0, 0, 0, 0, 0, 0, 0, 0, 0, 0, ...   \n",
       "22955  [0, 0, 0, 0, 0, 0, 0, 0, 0, 0, 0, 0, 0, 0, 0, ...   \n",
       "53363  [0, 0, 0, 0, 0, 0, 0, 0, 0, 0, 0, 0, 0, 0, 0, ...   \n",
       "42961  [0, 0, 0, 0, 0, 0, 0, 0, 0, 0, 0, 0, 0, 0, 0, ...   \n",
       "\n",
       "                                              output_ids        dir0  \n",
       "index                                                                 \n",
       "18768  [1, 1, 1, 1, 1, 1, 1, 1, 1, 1, 1, 1, 1, 1, 1, ...  valid_data  \n",
       "38805  [1, 1, 1, 1, 1, 1, 1, 1, 1, 1, 1, 1, 1, 1, 1, ...  valid_data  \n",
       "22955  [1, 1, 1, 1, 1, 1, 1, 1, 1, 1, 1, 1, 1, 0, 0, ...  valid_data  \n",
       "53363  [1, 1, 1, 1, 1, 1, 1, 1, 1, 1, 1, 1, 1, 1, 1, ...  valid_data  \n",
       "42961  [1, 1, 1, 1, 1, 1, 0, 0, 0, 0, 0, 0, 0, 0, 0, ...  valid_data  "
      ]
     },
     "execution_count": 4,
     "metadata": {},
     "output_type": "execute_result"
    }
   ],
   "source": [
    "train_data.tail()"
   ]
  },
  {
   "cell_type": "code",
   "execution_count": 5,
   "metadata": {},
   "outputs": [
    {
     "data": {
      "text/html": [
       "<div>\n",
       "<style scoped>\n",
       "    .dataframe tbody tr th:only-of-type {\n",
       "        vertical-align: middle;\n",
       "    }\n",
       "\n",
       "    .dataframe tbody tr th {\n",
       "        vertical-align: top;\n",
       "    }\n",
       "\n",
       "    .dataframe thead th {\n",
       "        text-align: right;\n",
       "    }\n",
       "</style>\n",
       "<table border=\"1\" class=\"dataframe\">\n",
       "  <thead>\n",
       "    <tr style=\"text-align: right;\">\n",
       "      <th></th>\n",
       "      <th>sentence_id</th>\n",
       "      <th>tokens</th>\n",
       "      <th>token_labels</th>\n",
       "      <th>input_ids</th>\n",
       "      <th>attention_mask</th>\n",
       "      <th>token_type_ids</th>\n",
       "      <th>output_ids</th>\n",
       "      <th>dir0</th>\n",
       "    </tr>\n",
       "    <tr>\n",
       "      <th>index</th>\n",
       "      <th></th>\n",
       "      <th></th>\n",
       "      <th></th>\n",
       "      <th></th>\n",
       "      <th></th>\n",
       "      <th></th>\n",
       "      <th></th>\n",
       "      <th></th>\n",
       "    </tr>\n",
       "  </thead>\n",
       "  <tbody>\n",
       "    <tr>\n",
       "      <th>13213</th>\n",
       "      <td>EBRW1908000229.96.7.1</td>\n",
       "      <td>[그, ##리, ##구, 평, ##일, ##이, ##라, 매우, ##한, ##산, ...</td>\n",
       "      <td>[-, -, -, B_DT, I_DT, -, -, -, -, -, -, -, -, ...</td>\n",
       "      <td>[101, 8924, 12692, 17196, 9926, 18392, 10739, ...</td>\n",
       "      <td>[1, 1, 1, 1, 1, 1, 1, 1, 1, 1, 1, 1, 1, 1, 1, ...</td>\n",
       "      <td>[0, 0, 0, 0, 0, 0, 0, 0, 0, 0, 0, 0, 0, 0, 0, ...</td>\n",
       "      <td>[1, 1, 1, 1, 13, 12, 1, 1, 1, 1, 1, 1, 1, 1, 1...</td>\n",
       "      <td>train_data</td>\n",
       "    </tr>\n",
       "  </tbody>\n",
       "</table>\n",
       "</div>"
      ],
      "text/plain": [
       "                 sentence_id  \\\n",
       "index                          \n",
       "13213  EBRW1908000229.96.7.1   \n",
       "\n",
       "                                                  tokens  \\\n",
       "index                                                      \n",
       "13213  [그, ##리, ##구, 평, ##일, ##이, ##라, 매우, ##한, ##산, ...   \n",
       "\n",
       "                                            token_labels  \\\n",
       "index                                                      \n",
       "13213  [-, -, -, B_DT, I_DT, -, -, -, -, -, -, -, -, ...   \n",
       "\n",
       "                                               input_ids  \\\n",
       "index                                                      \n",
       "13213  [101, 8924, 12692, 17196, 9926, 18392, 10739, ...   \n",
       "\n",
       "                                          attention_mask  \\\n",
       "index                                                      \n",
       "13213  [1, 1, 1, 1, 1, 1, 1, 1, 1, 1, 1, 1, 1, 1, 1, ...   \n",
       "\n",
       "                                          token_type_ids  \\\n",
       "index                                                      \n",
       "13213  [0, 0, 0, 0, 0, 0, 0, 0, 0, 0, 0, 0, 0, 0, 0, ...   \n",
       "\n",
       "                                              output_ids        dir0  \n",
       "index                                                                 \n",
       "13213  [1, 1, 1, 1, 13, 12, 1, 1, 1, 1, 1, 1, 1, 1, 1...  train_data  "
      ]
     },
     "execution_count": 5,
     "metadata": {},
     "output_type": "execute_result"
    }
   ],
   "source": [
    "train_data.query('sentence_id == \"EBRW1908000229.96.7.1\"')"
   ]
  },
  {
   "cell_type": "code",
   "execution_count": 6,
   "metadata": {},
   "outputs": [],
   "source": [
    "import numpy as np\n",
    "token_labels = np.concatenate(train_data['token_labels'].values)"
   ]
  },
  {
   "cell_type": "code",
   "execution_count": 7,
   "metadata": {},
   "outputs": [
    {
     "data": {
      "text/plain": [
       "31901306"
      ]
     },
     "execution_count": 7,
     "metadata": {},
     "output_type": "execute_result"
    }
   ],
   "source": [
    "len(token_labels)"
   ]
  },
  {
   "cell_type": "code",
   "execution_count": 8,
   "metadata": {},
   "outputs": [
    {
     "data": {
      "text/plain": [
       "array(['B_LC', '-', '-', ..., '-', '-', '-'], dtype='<U32')"
      ]
     },
     "execution_count": 8,
     "metadata": {},
     "output_type": "execute_result"
    }
   ],
   "source": [
    "token_labels"
   ]
  },
  {
   "cell_type": "code",
   "execution_count": 9,
   "metadata": {},
   "outputs": [
    {
     "name": "stdout",
     "output_type": "stream",
     "text": [
      "Counter({'-': 25976717, 'I_CV': 743490, 'I_OG': 576749, 'B_CV': 455865, 'I_PS': 444341, 'I_QT': 378459, 'I_AF': 348606, 'I_LC': 322791, 'I_TM': 309137, 'I_DT': 298660, 'B_PS': 258888, 'B_QT': 239522, 'B_LC': 235040, 'B_OG': 222218, 'B_DT': 210713, 'B_TM': 134507, 'B_AF': 122063, 'I_EV': 115212, 'B_AM': 87148, 'I_AM': 81193, 'I_TI': 71590, 'I_TR': 41557, 'B_TI': 40572, 'I_PT': 32444, 'I_MT': 32161, 'B_EV': 30834, 'B_PT': 23662, 'I_FD': 22314, 'B_MT': 16379, 'B_TR': 15790, 'B_FD': 12684})\n"
     ]
    }
   ],
   "source": [
    "from collections import Counter\n",
    "import pandas as pd\n",
    "\n",
    "result = Counter(token_labels)\n",
    "print(result)\n",
    "\n",
    "pd.DataFrame(result.most_common(), columns=[\"item\", \"count\"]).to_csv(\"/home/woohyun/NER/data/k_corpus/featured_data/bert-base-multilingual-cased_통계.csv\")\n",
    "\n",
    "# for key in result:\n",
    "#     print(key, result[key])\n",
    "\n",
    "# # 값만 출력도 가능\n",
    "# result = Counter(token_labels).values()\n",
    "# print(result)"
   ]
  },
  {
   "cell_type": "code",
   "execution_count": null,
   "metadata": {},
   "outputs": [],
   "source": []
  }
 ],
 "metadata": {
  "kernelspec": {
   "display_name": "Python 3",
   "language": "python",
   "name": "python3"
  },
  "language_info": {
   "codemirror_mode": {
    "name": "ipython",
    "version": 3
   },
   "file_extension": ".py",
   "mimetype": "text/x-python",
   "name": "python",
   "nbconvert_exporter": "python",
   "pygments_lexer": "ipython3",
   "version": "3.8.10"
  },
  "orig_nbformat": 4
 },
 "nbformat": 4,
 "nbformat_minor": 2
}
